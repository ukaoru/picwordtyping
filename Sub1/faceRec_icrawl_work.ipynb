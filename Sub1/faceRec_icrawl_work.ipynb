{
  "nbformat": 4,
  "nbformat_minor": 0,
  "metadata": {
    "colab": {
      "provenance": [],
      "gpuType": "T4"
    },
    "kernelspec": {
      "name": "python3",
      "display_name": "Python 3"
    },
    "language_info": {
      "name": "python"
    },
    "accelerator": "GPU"
  },
  "cells": [
    {
      "cell_type": "markdown",
      "source": [
        "# Face detection and recognition trial (with image crawling)\n",
        "\n",
        "Ref: https://github.com/ageitgey/face_recognition/blob/master/README.md"
      ],
      "metadata": {
        "id": "FNuFOTl2N_XW"
      }
    },
    {
      "cell_type": "code",
      "execution_count": null,
      "metadata": {
        "id": "yUTzknPvN2AR"
      },
      "outputs": [],
      "source": [
        "!pip install face_recognition\n",
        "\n",
        "import face_recognition\n",
        "import cv2\n",
        "from google.colab.patches import cv2_imshow"
      ]
    },
    {
      "cell_type": "markdown",
      "source": [
        "### Face detection"
      ],
      "metadata": {
        "id": "uPwovrM4N-XJ"
      }
    },
    {
      "cell_type": "code",
      "source": [
        "!wget https://hips.hearstapps.com/hmg-prod/images/barack-obama-white-house-portrait-644fccf590557.jpg -O obama.jpg"
      ],
      "metadata": {
        "id": "ywTQQgfGmuNY"
      },
      "execution_count": null,
      "outputs": []
    },
    {
      "cell_type": "code",
      "source": [
        "frimg = cv2.imread(\"obama.jpg\")\n",
        "face_location = face_recognition.face_locations(frimg, model=\"cnn\")[0]"
      ],
      "metadata": {
        "id": "6lP59axvO-NS"
      },
      "execution_count": null,
      "outputs": []
    },
    {
      "cell_type": "code",
      "source": [
        "(top, right, bottom, left) = face_location\n",
        "cv2.rectangle(frimg, (left, top), (right, bottom), (0, 0, 255), 3)\n",
        "cv2_imshow(frimg)"
      ],
      "metadata": {
        "id": "aKH8uZRjQSiz"
      },
      "execution_count": null,
      "outputs": []
    },
    {
      "cell_type": "markdown",
      "source": [
        "Do the same for: https://cis.hosei.ac.jp/wp-content/uploads/2016/10/par5-1-720x441.jpg"
      ],
      "metadata": {
        "id": "XbpJsKtSSH7k"
      }
    },
    {
      "cell_type": "code",
      "source": [
        "##"
      ],
      "metadata": {
        "id": "jCUsxWdeetvD"
      },
      "execution_count": null,
      "outputs": []
    },
    {
      "cell_type": "code",
      "source": [
        "##"
      ],
      "metadata": {
        "id": "YcTzTJ2aetm6"
      },
      "execution_count": null,
      "outputs": []
    },
    {
      "cell_type": "markdown",
      "source": [
        "### Face recognition"
      ],
      "metadata": {
        "id": "BlWGWU-MSYSh"
      }
    },
    {
      "cell_type": "code",
      "source": [
        "frimg = cv2.imread(\"obama.jpg\")\n",
        "enc1 = face_recognition.face_encodings(frimg)[0]"
      ],
      "metadata": {
        "id": "GUIOuHqQStOS"
      },
      "execution_count": null,
      "outputs": []
    },
    {
      "cell_type": "markdown",
      "source": [
        "Do the same for this and encode as enc2\n",
        "https://www.hollywoodreporter.com/wp-content/uploads/2022/10/Barack-Obama-Portrait-Unveiling-GettyImages-1421686845-H-2022.jpg"
      ],
      "metadata": {
        "id": "CSz8lM8MoDh0"
      }
    },
    {
      "cell_type": "code",
      "source": [
        "##"
      ],
      "metadata": {
        "id": "OYBco0URoyxm"
      },
      "execution_count": null,
      "outputs": []
    },
    {
      "cell_type": "code",
      "source": [
        "##\n"
      ],
      "metadata": {
        "id": "Q9A9s26mStJy"
      },
      "execution_count": null,
      "outputs": []
    },
    {
      "cell_type": "code",
      "source": [
        "result = face_recognition.compare_faces([enc1], enc2)\n",
        "print(result)"
      ],
      "metadata": {
        "id": "2MPSOAmkStE-"
      },
      "execution_count": null,
      "outputs": []
    },
    {
      "cell_type": "code",
      "source": [
        "print(face_recognition.api.face_distance([enc1], enc2))"
      ],
      "metadata": {
        "id": "NZCG6pKhTdSl"
      },
      "execution_count": null,
      "outputs": []
    },
    {
      "cell_type": "code",
      "source": [
        "# Let us try on a different face\n",
        "!wget https://media2.s-nbcnews.com/j/newscms/2017_46/2224911/171113-bill-gates-se-247p_043bd413c63b2a97abf11bfad747538d.fit-760w.jpg -O gates1.jpg\n",
        "frimgG1 = cv2.imread(\"gates1.jpg\")\n",
        "encG1 = face_recognition.face_encodings(frimgG1)[0]\n",
        "print(face_recognition.api.compare_faces([enc1], encG1),\n",
        "        face_recognition.api.face_distance([enc1], encG1))\n"
      ],
      "metadata": {
        "id": "6xIICHe4UbBR"
      },
      "execution_count": null,
      "outputs": []
    },
    {
      "cell_type": "markdown",
      "source": [
        "Try with obama2."
      ],
      "metadata": {
        "id": "sOHqLzu-eeOM"
      }
    },
    {
      "cell_type": "code",
      "source": [
        "##"
      ],
      "metadata": {
        "id": "vAOnFuvceq7w"
      },
      "execution_count": null,
      "outputs": []
    },
    {
      "cell_type": "markdown",
      "source": [
        "## Image crawling"
      ],
      "metadata": {
        "id": "aCSEyi4naf4Q"
      }
    },
    {
      "cell_type": "code",
      "source": [
        "# https://icrawler.readthedocs.io/en/latest/\n",
        "!pip install icrawler"
      ],
      "metadata": {
        "id": "rIR7N0J6aRd8"
      },
      "execution_count": null,
      "outputs": []
    },
    {
      "cell_type": "code",
      "source": [
        "from icrawler.builtin import GoogleImageCrawler\n",
        "\n",
        "swd = 'Bill Gates'\n",
        "crawler = GoogleImageCrawler( storage={'root_dir': '.'} )\n",
        "crawler.crawl(keyword=swd, max_num=6)"
      ],
      "metadata": {
        "id": "9VTcTVSQatYg"
      },
      "execution_count": null,
      "outputs": []
    },
    {
      "cell_type": "markdown",
      "source": [
        "Choose whichever image you like and compare with gates1."
      ],
      "metadata": {
        "id": "HmurDYIMbTlQ"
      }
    },
    {
      "cell_type": "code",
      "source": [
        "##"
      ],
      "metadata": {
        "id": "u29YTML_c_7B"
      },
      "execution_count": null,
      "outputs": []
    },
    {
      "cell_type": "code",
      "source": [
        "import glob\n",
        "L = sorted(glob.glob('00*.jpg'))\n",
        "print(L)"
      ],
      "metadata": {
        "id": "GIcXodS0evc5"
      },
      "execution_count": null,
      "outputs": []
    },
    {
      "cell_type": "code",
      "source": [
        "for img in L:\n",
        "    frimgG = cv2.imread(img)\n",
        "    enc = face_recognition.face_encodings(frimgG)[0]\n",
        "    print(face_recognition.api.compare_faces([enc], encG1),\n",
        "            face_recognition.api.face_distance([enc], encG1))"
      ],
      "metadata": {
        "id": "kRSk24ZkhpZV"
      },
      "execution_count": null,
      "outputs": []
    }
  ]
}